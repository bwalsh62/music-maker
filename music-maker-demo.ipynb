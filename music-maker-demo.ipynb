{
 "cells": [
  {
   "cell_type": "code",
   "execution_count": null,
   "metadata": {},
   "outputs": [],
   "source": [
    "# Title\n",
    "## Table of contents"
   ]
  },
  {
   "cell_type": "code",
   "execution_count": null,
   "metadata": {},
   "outputs": [],
   "source": [
    "# TODO: Define Note class with music file creation method\n",
    "# TODO: Distinguish C3 vs C4, etc.\n",
    "# TODO: Allow for chords in a scalable way \n",
    "# TODO: --> Make create_wav_file in Song class using wav_zpad \n",
    "# TODO: -> Adjust pre_pad wav_util ... to account for 2 channels? \n",
    "#\n",
    "# Later...\n",
    "# TODO: Make a melody package - setup.py, __init__.py - see Lesson 4\n",
    "# TODO: Unit test framework - pytest\n",
    "# TODO: Automatically run pytest and pylint on files in cmd line - e.g. Jenkins"
   ]
  },
  {
   "cell_type": "markdown",
   "metadata": {},
   "source": [
    "## Import libraries"
   ]
  },
  {
   "cell_type": "code",
   "execution_count": null,
   "metadata": {},
   "outputs": [],
   "source": [
    "from pygame import mixer\n",
    "from melody import Melody"
   ]
  },
  {
   "cell_type": "code",
   "execution_count": null,
   "metadata": {},
   "outputs": [],
   "source": [
    "\n",
    "#%% Define input melody\n",
    "print(\"\\nReceiving melody input...\\n\")\n",
    "\n",
    "input_note_list = ['C', 'F', 'G', 'C']\n",
    "input_duration_list = [1, 1, 1, 1 ]\n",
    "\n",
    "input_melody = Melody(note_list=input_note_list, \\\n",
    "                        duration_list=input_duration_list)\n",
    "\n",
    "print('Input notes: {}'.format(input_melody.note_list))\n",
    "print('Input durations: {}'.format(input_melody.duration_list))\n",
    "\n",
    "# %% Create .wav file to play input melody\n",
    "print(\"\\nCreating music file...\\n\")\n",
    "\n",
    "input_melody.create_wav_file()\n",
    "\n",
    "#%% Playback newly created .wav file\n",
    "print(\"\\nPlaying music file...\\n\")\n",
    "\n",
    "mixer.init()\n",
    "#input_melody.play()\n",
    "\n",
    "#%% Define input melody\n",
    "print(\"\\nDefining 2nd melody...\\n\")\n",
    "\n",
    "input_note_list2 = ['G', 'A', 'G', 'G']\n",
    "input_duration_list2 = [1, 1, 1, 1 ]\n",
    "\n",
    "input_melody2 = Melody(note_list=input_note_list2, \\\n",
    "                        duration_list=input_duration_list2)\n",
    "\n",
    "#print('Input notes: {}'.format(input_melody2.note_list))\n",
    "#print('Input durations: {}'.format(input_melody2.duration_list))\n",
    "\n",
    "# %% Create .wav file to play input melody\n",
    "print(\"\\nCreating music file...\\n\")\n",
    "\n",
    "input_melody2.create_wav_file()\n",
    "\n",
    "#%% Playback newly created .wav file\n",
    "print(\"\\nPlaying both music files...\\n\")\n",
    "\n",
    "#input_melody.play()\n",
    "#input_melody2.play()\n",
    "\n",
    "#%% Trying again with new Song class\n",
    "\n",
    "from melody import Song\n",
    "\n",
    "#%% Define input melody\n",
    "print(\"\\nReceiving melody input...\\n\")\n",
    "\n",
    "song_note_list = ['C', 'F', 'G', 'C']\n",
    "note_start_list = [0, 1, 2, 3]\n",
    "note_duration_list = [1, 1, 1, 1]\n",
    "\n",
    "song = Song(note_list=input_note_list, \\\n",
    "            note_start_list=note_start_list, \\\n",
    "                        duration_list=input_duration_list)\n",
    "\n",
    "print('Input notes: {}'.format(song.note_list))\n",
    "print('Input durations: {}'.format(song.duration_list))\n"
   ]
  },
  {
   "cell_type": "markdown",
   "metadata": {},
   "source": [
    "## Create music file \n",
    "Create .wav file based on input melody"
   ]
  },
  {
   "cell_type": "code",
   "execution_count": null,
   "metadata": {},
   "outputs": [],
   "source": [
    "print(\"\\nCreating music file...\\n\")\n",
    "\n",
    "song.create_wav_file()"
   ]
  },
  {
   "cell_type": "markdown",
   "metadata": {},
   "source": [
    "## Play music file\n",
    "Play newly created .wav file"
   ]
  },
  {
   "cell_type": "code",
   "execution_count": null,
   "metadata": {},
   "outputs": [],
   "source": [
    "print(\"\\nPlaying new song music file...\\n\")\n",
    "\n",
    "song.play()"
   ]
  }
 ],
 "metadata": {
  "kernelspec": {
   "display_name": "Python 3",
   "language": "python",
   "name": "python3"
  },
  "language_info": {
   "codemirror_mode": {
    "name": "ipython",
    "version": 3
   },
   "file_extension": ".py",
   "mimetype": "text/x-python",
   "name": "python",
   "nbconvert_exporter": "python",
   "pygments_lexer": "ipython3",
   "version": "3.6.9"
  }
 },
 "nbformat": 4,
 "nbformat_minor": 2
}
